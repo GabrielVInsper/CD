{
 "cells": [
  {
   "cell_type": "markdown",
   "metadata": {},
   "source": [
    "# Mini Projeto 2"
   ]
  },
  {
   "cell_type": "markdown",
   "metadata": {},
   "source": [
    "## Alunos: Gabriel Vilaça e Felipe Pereira"
   ]
  },
  {
   "cell_type": "code",
   "execution_count": 1,
   "metadata": {
    "collapsed": true
   },
   "outputs": [],
   "source": [
    "%matplotlib inline\n",
    "\n",
    "import os\n",
    "import matplotlib.pyplot as plt\n",
    "import pandas as pd\n",
    "import numpy as np\n",
    "from scipy import stats\n"
   ]
  },
  {
   "cell_type": "markdown",
   "metadata": {},
   "source": [
    "Obs: Usaremos duas distribuições para melhor demonstrar a que as diferentes distribuições tendem à distribuição normal quando o n (número de amostras) tende ao infinito."
   ]
  },
  {
   "cell_type": "markdown",
   "metadata": {},
   "source": [
    "# Distribuição do tipo Lognormal"
   ]
  },
  {
   "cell_type": "markdown",
   "metadata": {},
   "source": [
    "# 1) "
   ]
  },
  {
   "cell_type": "markdown",
   "metadata": {},
   "source": [
    "a)"
   ]
  },
  {
   "cell_type": "markdown",
   "metadata": {},
   "source": [
    "Usaremos a distribuição Lognormal para analisar a distribuição da média amostral, calcular seu valor médio e a variância\n",
    "dessas médias."
   ]
  },
  {
   "cell_type": "markdown",
   "metadata": {},
   "source": [
    "b)"
   ]
  },
  {
   "cell_type": "code",
   "execution_count": 2,
   "metadata": {
    "collapsed": false,
    "scrolled": false
   },
   "outputs": [
    {
     "data": {
      "text/plain": [
       "<matplotlib.axes._subplots.AxesSubplot at 0x2c16acdab38>"
      ]
     },
     "execution_count": 2,
     "metadata": {},
     "output_type": "execute_result"
    },
    {
     "data": {
      "image/png": "[encoded data removed]",
      "text/plain": [
       "<matplotlib.figure.Figure at 0x2c16acda358>"
      ]
     },
     "metadata": {},
     "output_type": "display_data"
    }
   ],
   "source": [
    "Dados_Init = pd.DataFrame()\n",
    "Valores = stats.lognorm.rvs(0.25, size=1000000)\n",
    "Dados_Init[\"Values\"] = Valores\n",
    "Dados_Init.plot.hist(bins=100, legend = True, grid = True)"
   ]
  },
  {
   "cell_type": "markdown",
   "metadata": {},
   "source": [
    "c)"
   ]
  },
  {
   "cell_type": "code",
   "execution_count": 3,
   "metadata": {
    "collapsed": false
   },
   "outputs": [
    {
     "name": "stdout",
     "output_type": "stream",
     "text": [
      "A média (Mu) é 1.03 e a variância (Sigma²) é 0.07.\n"
     ]
    }
   ],
   "source": [
    "# Os valores a seguir são as médias da \n",
    "\n",
    "Mu = Dados_Init.Values.mean()\n",
    "Sigma = Dados_Init.Values.var()\n",
    "\n",
    "Mu_1 = format(Mu, \".2f\")\n",
    "Sigma = format(Sigma, \".2f\")\n",
    "\n",
    "print(\"A média (Mu) é {0} e a variância (Sigma²) é {1}.\".format(Mu_1,Sigma))"
   ]
  },
  {
   "cell_type": "markdown",
   "metadata": {},
   "source": [
    "# 2)"
   ]
  },
  {
   "cell_type": "markdown",
   "metadata": {},
   "source": [
    "a) "
   ]
  },
  {
   "cell_type": "code",
   "execution_count": 4,
   "metadata": {
    "collapsed": true
   },
   "outputs": [],
   "source": [
    "# O número n de amostras será inicialmente 2.\n",
    "\n",
    "n = 2"
   ]
  },
  {
   "cell_type": "markdown",
   "metadata": {},
   "source": [
    "b) "
   ]
  },
  {
   "cell_type": "code",
   "execution_count": 5,
   "metadata": {
    "collapsed": false
   },
   "outputs": [],
   "source": [
    "Choices = np.random.choice(Valores,n)\n",
    "NeuDataFrame = pd.DataFrame()\n",
    "NeuDataFrame[\"Val\"] = Choices \n",
    "\n",
    "Mu_2 = NeuDataFrame.Val.mean()\n",
    "Mu_2 = format(Mu_2,\".2f\")\n"
   ]
  },
  {
   "cell_type": "markdown",
   "metadata": {},
   "source": [
    "c)"
   ]
  },
  {
   "cell_type": "code",
   "execution_count": 6,
   "metadata": {
    "collapsed": false,
    "scrolled": true
   },
   "outputs": [
    {
     "name": "stdout",
     "output_type": "stream",
     "text": [
      "A média amostral dos valores é de 0.84.\n"
     ]
    }
   ],
   "source": [
    "print(\"A média amostral dos valores é de {0}.\".format(Mu_2))"
   ]
  },
  {
   "cell_type": "markdown",
   "metadata": {},
   "source": [
    "d)"
   ]
  },
  {
   "cell_type": "code",
   "execution_count": 7,
   "metadata": {
    "collapsed": false
   },
   "outputs": [],
   "source": [
    "Media = []\n",
    "MediaDt = pd.DataFrame()\n",
    "for number in range(10000):\n",
    "    Choices_of_list = np.random.choice(Valores,n)\n",
    "    MediaDt[\"Valores\"] = Choices_of_list\n",
    "    Media.append(MediaDt.Valores.mean())"
   ]
  },
  {
   "cell_type": "markdown",
   "metadata": {},
   "source": [
    "e)"
   ]
  },
  {
   "cell_type": "code",
   "execution_count": 25,
   "metadata": {
    "collapsed": false,
    "scrolled": true
   },
   "outputs": [
    {
     "name": "stdout",
     "output_type": "stream",
     "text": [
      "A média das médias amostrais é 1.03, e a variação delas é 0.071.\n"
     ]
    },
    {
     "data": {
      "image/png": "[encoded data removed]",
      "text/plain": [
       "<matplotlib.figure.Figure at 0x2c16d2fd9b0>"
      ]
     },
     "metadata": {},
     "output_type": "display_data"
    }
   ],
   "source": [
    "MediaData = pd.DataFrame()\n",
    "MediaData[\"Values\"] = Media\n",
    "MediaData.plot.hist(bins= 50, grid = True)\n",
    "plt.axvline(Mu, color = \"red\", linestyle = '-', linewidth = 3)\n",
    "\n",
    "Mu_3 = NeuDataFrame.Val.mean()\n",
    "Mu_3 = format(Mu_3,\".2f\")\n",
    "\n",
    "Var_3 = NeuDataFrame.Val.var()\n",
    "Var_3 = format(Var_3,\".3f\")\n",
    "\n",
    "print(\"A média das médias amostrais é {0}, e a variação delas é {1}.\".format(Mu_3, Var_3))"
   ]
  },
  {
   "cell_type": "markdown",
   "metadata": {},
   "source": [
    "f)"
   ]
  },
  {
   "cell_type": "markdown",
   "metadata": {},
   "source": [
    " A distribuição de X tende à distribuição normal conforme o n aumenta e tende ao infinito."
   ]
  },
  {
   "cell_type": "markdown",
   "metadata": {},
   "source": [
    "# 3)"
   ]
  },
  {
   "cell_type": "markdown",
   "metadata": {},
   "source": [
    "# O número n de amostras será inicialmente 4."
   ]
  },
  {
   "cell_type": "code",
   "execution_count": 31,
   "metadata": {
    "collapsed": true
   },
   "outputs": [],
   "source": [
    "# O número n de amostras será inicialmente 4.\n",
    "\n",
    "n = 4"
   ]
  },
  {
   "cell_type": "code",
   "execution_count": 32,
   "metadata": {
    "collapsed": false
   },
   "outputs": [],
   "source": [
    "Choices = np.random.choice(Valores,n)\n",
    "NeuDataFrame = pd.DataFrame()\n",
    "NeuDataFrame[\"Val\"] = Choices \n",
    "\n",
    "Mu_2 = NeuDataFrame.Val.mean()\n",
    "Mu_2 = format(Mu_2,\".2f\")\n"
   ]
  },
  {
   "cell_type": "code",
   "execution_count": 33,
   "metadata": {
    "collapsed": false,
    "scrolled": true
   },
   "outputs": [
    {
     "name": "stdout",
     "output_type": "stream",
     "text": [
      "A média amostral dos valores é de 0.95.\n"
     ]
    }
   ],
   "source": [
    "print(\"A média amostral dos valores é de {0}.\".format(Mu_2))"
   ]
  },
  {
   "cell_type": "code",
   "execution_count": 34,
   "metadata": {
    "collapsed": false
   },
   "outputs": [],
   "source": [
    "Media = []\n",
    "MediaDt = pd.DataFrame()\n",
    "for number in range(10000):\n",
    "    Choices_of_list = np.random.choice(Valores,n)\n",
    "    MediaDt[\"Valores\"] = Choices_of_list\n",
    "    Media.append(MediaDt.Valores.mean())"
   ]
  },
  {
   "cell_type": "code",
   "execution_count": 35,
   "metadata": {
    "collapsed": false
   },
   "outputs": [
    {
     "name": "stdout",
     "output_type": "stream",
     "text": [
      "A média das médias amostrais é 0.95, e a variação delas é 0.02.\n"
     ]
    },
    {
     "data": {
      "image/png": "[encoded data removed]",
      "text/plain": [
       "<matplotlib.figure.Figure at 0x2c16cb800b8>"
      ]
     },
     "metadata": {},
     "output_type": "display_data"
    }
   ],
   "source": [
    "MediaData = pd.DataFrame()\n",
    "MediaData[\"Values\"] = Media\n",
    "MediaData.Values.plot.hist(bins= 50, grid = True)\n",
    "plt.axvline(Mu, color = \"red\", linestyle = '-', linewidth = 3)\n",
    "\n",
    "Mu_3 = NeuDataFrame.Val.mean()\n",
    "Mu_3 = format(Mu_3,\".2f\")\n",
    "\n",
    "Var_3 = NeuDataFrame.Val.var()\n",
    "Var_3 = format(Var_3,\".2f\")\n",
    "\n",
    "print(\"A média das médias amostrais é {0}, e a variação delas é {1}.\".format(Mu_3, Var_3))"
   ]
  },
  {
   "cell_type": "markdown",
   "metadata": {},
   "source": [
    "# O número n de amostras será inicialmente 20.\n"
   ]
  },
  {
   "cell_type": "code",
   "execution_count": 14,
   "metadata": {
    "collapsed": true
   },
   "outputs": [],
   "source": [
    "n = 20"
   ]
  },
  {
   "cell_type": "code",
   "execution_count": 15,
   "metadata": {
    "collapsed": false
   },
   "outputs": [],
   "source": [
    "Choices = np.random.choice(Valores,n)\n",
    "NeuDataFrame = pd.DataFrame()\n",
    "NeuDataFrame[\"Val\"] = Choices \n",
    "\n",
    "Mu_2 = NeuDataFrame.Val.mean()\n",
    "Mu_2 = format(Mu_2,\".2f\")\n"
   ]
  },
  {
   "cell_type": "code",
   "execution_count": 16,
   "metadata": {
    "collapsed": false,
    "scrolled": true
   },
   "outputs": [
    {
     "name": "stdout",
     "output_type": "stream",
     "text": [
      "A média amostral dos valores é de 1.17.\n"
     ]
    }
   ],
   "source": [
    "print(\"A média amostral dos valores é de {0}.\".format(Mu_2))"
   ]
  },
  {
   "cell_type": "code",
   "execution_count": 17,
   "metadata": {
    "collapsed": false
   },
   "outputs": [],
   "source": [
    "Media = []\n",
    "MediaDt = pd.DataFrame()\n",
    "for number in range(10000):\n",
    "    Choices_of_list = np.random.choice(Valores,n)\n",
    "    MediaDt[\"Valores\"] = Choices_of_list\n",
    "    Media.append(MediaDt.Valores.mean())"
   ]
  },
  {
   "cell_type": "code",
   "execution_count": 18,
   "metadata": {
    "collapsed": false
   },
   "outputs": [
    {
     "name": "stdout",
     "output_type": "stream",
     "text": [
      "A média das médias amostrais é 1.17, e a variação delas é 0.12.\n"
     ]
    },
    {
     "data": {
      "image/png": "[encoded data removed]",
      "text/plain": [
       "<matplotlib.figure.Figure at 0x2c16ca4dc50>"
      ]
     },
     "metadata": {},
     "output_type": "display_data"
    }
   ],
   "source": [
    "MediaData = pd.DataFrame()\n",
    "MediaData[\"Values\"] = Media\n",
    "MediaData.Values.plot.hist(bins= 50, grid = True)\n",
    "plt.axvline(Mu, color = \"red\", linestyle = '-', linewidth = 3)\n",
    "\n",
    "Mu_3 = NeuDataFrame.Val.mean()\n",
    "Mu_3 = format(Mu_3,\".2f\")\n",
    "\n",
    "Var_3 = NeuDataFrame.Val.var()\n",
    "Var_3 = format(Var_3,\".2f\")\n",
    "\n",
    "print(\"A média das médias amostrais é {0}, e a variação delas é {1}.\".format(Mu_3, Var_3))"
   ]
  },
  {
   "cell_type": "markdown",
   "metadata": {},
   "source": [
    "# O número n de amostras será inicialmente 50."
   ]
  },
  {
   "cell_type": "code",
   "execution_count": 26,
   "metadata": {
    "collapsed": true
   },
   "outputs": [],
   "source": [
    "n = 50"
   ]
  },
  {
   "cell_type": "code",
   "execution_count": 27,
   "metadata": {
    "collapsed": false
   },
   "outputs": [],
   "source": [
    "Choices = np.random.choice(Valores,n)\n",
    "NeuDataFrame = pd.DataFrame()\n",
    "NeuDataFrame[\"Val\"] = Choices \n",
    "\n",
    "Mu_2 = NeuDataFrame.Val.mean()\n",
    "Mu_2 = format(Mu_2,\".2f\")\n"
   ]
  },
  {
   "cell_type": "code",
   "execution_count": 28,
   "metadata": {
    "collapsed": false,
    "scrolled": true
   },
   "outputs": [
    {
     "name": "stdout",
     "output_type": "stream",
     "text": [
      "A média amostral dos valores é de 1.05.\n"
     ]
    }
   ],
   "source": [
    "print(\"A média amostral dos valores é de {0}.\".format(Mu_2))"
   ]
  },
  {
   "cell_type": "code",
   "execution_count": 29,
   "metadata": {
    "collapsed": false
   },
   "outputs": [],
   "source": [
    "Media = []\n",
    "MediaDt = pd.DataFrame()\n",
    "for number in range(10000):\n",
    "    Choices_of_list = np.random.choice(Valores,n)\n",
    "    MediaDt[\"Valores\"] = Choices_of_list\n",
    "    Media.append(MediaDt.Valores.mean())"
   ]
  },
  {
   "cell_type": "code",
   "execution_count": 30,
   "metadata": {
    "collapsed": false,
    "scrolled": true
   },
   "outputs": [
    {
     "name": "stdout",
     "output_type": "stream",
     "text": [
      "A média das médias amostrais é 1.05, e a variação delas é 0.08.\n"
     ]
    },
    {
     "data": {
      "image/png": "[encoded data removed]",
      "text/plain": [
       "<matplotlib.figure.Figure at 0x2c16d2de240>"
      ]
     },
     "metadata": {},
     "output_type": "display_data"
    }
   ],
   "source": [
    "MediaData = pd.DataFrame()\n",
    "MediaData[\"Values\"] = Media\n",
    "MediaData.plot.hist(bins= 50, grid = True)\n",
    "plt.axvline(Mu, color = \"red\", linestyle = '-', linewidth = 3)\n",
    "\n",
    "Mu_3 = NeuDataFrame.Val.mean()\n",
    "Mu_3 = format(Mu_3,\".2f\")\n",
    "\n",
    "Var_3 = NeuDataFrame.Val.var()\n",
    "Var_3 = format(Var_3,\".2f\")\n",
    "\n",
    "\n",
    "\n",
    "print(\"A média das médias amostrais é {0}, e a variação delas é {1}.\".format(Mu_3, Var_3))"
   ]
  },
  {
   "cell_type": "markdown",
   "metadata": {},
   "source": [
    "# Distribuição do tipo Beta"
   ]
  },
  {
   "cell_type": "markdown",
   "metadata": {},
   "source": [
    "# 1)"
   ]
  },
  {
   "cell_type": "markdown",
   "metadata": {},
   "source": [
    "a)"
   ]
  },
  {
   "cell_type": "markdown",
   "metadata": {},
   "source": [
    "Usaremos a distribuição Lognormal para analisar a distribuição da média amostral, calcular seu valor médio e a variância\n",
    "dessas médias."
   ]
  },
  {
   "cell_type": "markdown",
   "metadata": {},
   "source": [
    "b)"
   ]
  },
  {
   "cell_type": "code",
   "execution_count": 51,
   "metadata": {
    "collapsed": false,
    "scrolled": false
   },
   "outputs": [
    {
     "data": {
      "text/plain": [
       "<matplotlib.axes._subplots.AxesSubplot at 0x2c16cfab3c8>"
      ]
     },
     "execution_count": 51,
     "metadata": {},
     "output_type": "execute_result"
    },
    {
     "data": {
      "image/png": "[encoded data removed]",
      "text/plain": [
       "<matplotlib.figure.Figure at 0x2c16cffa550>"
      ]
     },
     "metadata": {},
     "output_type": "display_data"
    }
   ],
   "source": [
    "Dados_Init2 = pd.DataFrame()\n",
    "Valores = stats.beta.rvs(0.5, 0.5, size=1000000)\n",
    "Dados_Init2[\"Values\"] = Valores\n",
    "Dados_Init2.plot.hist(bins=100, legend = True, grid = True)"
   ]
  },
  {
   "cell_type": "markdown",
   "metadata": {},
   "source": [
    "c)"
   ]
  },
  {
   "cell_type": "code",
   "execution_count": 52,
   "metadata": {
    "collapsed": false
   },
   "outputs": [
    {
     "name": "stdout",
     "output_type": "stream",
     "text": [
      "A média (Mu) é 0.50 e a variância (Sigma²) é 0.12.\n"
     ]
    }
   ],
   "source": [
    "# Os valores a seguir são as médias da \n",
    "\n",
    "Mu = Dados_Init2.Values.mean()\n",
    "Sigma = Dados_Init2.Values.var()\n",
    "\n",
    "Mu_1 = format(Mu, \".2f\")\n",
    "Sigma = format(Sigma, \".2f\")\n",
    "\n",
    "print(\"A média (Mu) é {0} e a variância (Sigma²) é {1}.\".format(Mu_1,Sigma))"
   ]
  },
  {
   "cell_type": "markdown",
   "metadata": {},
   "source": [
    "# 2)"
   ]
  },
  {
   "cell_type": "markdown",
   "metadata": {},
   "source": [
    "a) "
   ]
  },
  {
   "cell_type": "code",
   "execution_count": 53,
   "metadata": {
    "collapsed": true
   },
   "outputs": [],
   "source": [
    "# O número n de amostras será inicialmente 2.\n",
    "\n",
    "n = 2"
   ]
  },
  {
   "cell_type": "markdown",
   "metadata": {},
   "source": [
    "b) "
   ]
  },
  {
   "cell_type": "code",
   "execution_count": 54,
   "metadata": {
    "collapsed": false
   },
   "outputs": [],
   "source": [
    "Choices_2 = np.random.choice(Valores,n)\n",
    "NewDataFrame = pd.DataFrame()\n",
    "NewDataFrame[\"Val\"] = Choices \n",
    "\n",
    "Mu_4 = NewDataFrame.Val.mean()\n",
    "Mu_4 = format(Mu_4,\".2f\")\n"
   ]
  },
  {
   "cell_type": "markdown",
   "metadata": {},
   "source": [
    "c)"
   ]
  },
  {
   "cell_type": "code",
   "execution_count": 56,
   "metadata": {
    "collapsed": false,
    "scrolled": true
   },
   "outputs": [
    {
     "name": "stdout",
     "output_type": "stream",
     "text": [
      "A média amostral dos valores é de 0.99.\n"
     ]
    }
   ],
   "source": [
    "print(\"A média amostral dos valores é de {0}.\".format(Mu_4))"
   ]
  },
  {
   "cell_type": "markdown",
   "metadata": {},
   "source": [
    "d)"
   ]
  },
  {
   "cell_type": "code",
   "execution_count": 57,
   "metadata": {
    "collapsed": false
   },
   "outputs": [],
   "source": [
    "Media = []\n",
    "MediaDt = pd.DataFrame()\n",
    "for number in range(10000):\n",
    "    Choices_of_list = np.random.choice(Valores,n)\n",
    "    MediaDt[\"Valores\"] = Choices_of_list\n",
    "    Media.append(MediaDt.Valores.mean())"
   ]
  },
  {
   "cell_type": "markdown",
   "metadata": {},
   "source": [
    "e)"
   ]
  },
  {
   "cell_type": "code",
   "execution_count": 58,
   "metadata": {
    "collapsed": false,
    "scrolled": true
   },
   "outputs": [
    {
     "name": "stdout",
     "output_type": "stream",
     "text": [
      "A média das médias amostrais é 0.99, e a variação delas é 0.063.\n"
     ]
    },
    {
     "data": {
      "image/png": "[encoded data removed]",
      "text/plain": [
       "<matplotlib.figure.Figure at 0x2c16cad4eb8>"
      ]
     },
     "metadata": {},
     "output_type": "display_data"
    }
   ],
   "source": [
    "MediaData = pd.DataFrame()\n",
    "MediaData[\"Values\"] = Media\n",
    "MediaData.plot.hist(bins= 50, grid = True)\n",
    "plt.axvline(Mu, color = \"red\", linestyle = '-', linewidth = 3)\n",
    "\n",
    "Mu_3 = NeuDataFrame.Val.mean()\n",
    "Mu_3 = format(Mu_3,\".2f\")\n",
    "\n",
    "Var_3 = NeuDataFrame.Val.var()\n",
    "Var_3 = format(Var_3,\".3f\")\n",
    "\n",
    "print(\"A média das médias amostrais é {0}, e a variação delas é {1}.\".format(Mu_3, Var_3))"
   ]
  },
  {
   "cell_type": "markdown",
   "metadata": {},
   "source": [
    "f)"
   ]
  },
  {
   "cell_type": "markdown",
   "metadata": {},
   "source": [
    " A distribuição de X tende à distribuição normal conforme o n aumenta e tende ao infinito."
   ]
  },
  {
   "cell_type": "markdown",
   "metadata": {},
   "source": [
    "# 3)"
   ]
  },
  {
   "cell_type": "markdown",
   "metadata": {},
   "source": [
    "# O número n de amostras será inicialmente 4."
   ]
  },
  {
   "cell_type": "code",
   "execution_count": 59,
   "metadata": {
    "collapsed": true
   },
   "outputs": [],
   "source": [
    "# O número n de amostras será inicialmente 4.\n",
    "\n",
    "n = 4"
   ]
  },
  {
   "cell_type": "code",
   "execution_count": 60,
   "metadata": {
    "collapsed": false
   },
   "outputs": [],
   "source": [
    "Choices = np.random.choice(Valores,n)\n",
    "NeuDataFrame = pd.DataFrame()\n",
    "NeuDataFrame[\"Val\"] = Choices \n",
    "\n",
    "Mu_2 = NeuDataFrame.Val.mean()\n",
    "Mu_2 = format(Mu_2,\".2f\")\n"
   ]
  },
  {
   "cell_type": "code",
   "execution_count": 61,
   "metadata": {
    "collapsed": false,
    "scrolled": true
   },
   "outputs": [
    {
     "name": "stdout",
     "output_type": "stream",
     "text": [
      "A média amostral dos valores é de 0.25.\n"
     ]
    }
   ],
   "source": [
    "print(\"A média amostral dos valores é de {0}.\".format(Mu_2))"
   ]
  },
  {
   "cell_type": "code",
   "execution_count": 62,
   "metadata": {
    "collapsed": false
   },
   "outputs": [],
   "source": [
    "Media = []\n",
    "MediaDt = pd.DataFrame()\n",
    "for number in range(10000):\n",
    "    Choices_of_list = np.random.choice(Valores,n)\n",
    "    MediaDt[\"Valores\"] = Choices_of_list\n",
    "    Media.append(MediaDt.Valores.mean())"
   ]
  },
  {
   "cell_type": "code",
   "execution_count": 63,
   "metadata": {
    "collapsed": false
   },
   "outputs": [
    {
     "name": "stdout",
     "output_type": "stream",
     "text": [
      "A média das médias amostrais é 0.25, e a variação delas é 0.07.\n"
     ]
    },
    {
     "data": {
      "image/png": "[encoded data removed]",
      "text/plain": [
       "<matplotlib.figure.Figure at 0x2c16be8ff60>"
      ]
     },
     "metadata": {},
     "output_type": "display_data"
    }
   ],
   "source": [
    "MediaData = pd.DataFrame()\n",
    "MediaData[\"Values\"] = Media\n",
    "MediaData.Values.plot.hist(bins= 50, grid = True)\n",
    "plt.axvline(Mu, color = \"red\", linestyle = '-', linewidth = 3)\n",
    "\n",
    "Mu_3 = NeuDataFrame.Val.mean()\n",
    "Mu_3 = format(Mu_3,\".2f\")\n",
    "\n",
    "Var_3 = NeuDataFrame.Val.var()\n",
    "Var_3 = format(Var_3,\".2f\")\n",
    "\n",
    "print(\"A média das médias amostrais é {0}, e a variação delas é {1}.\".format(Mu_3, Var_3))"
   ]
  },
  {
   "cell_type": "markdown",
   "metadata": {},
   "source": [
    "# O número n de amostras será inicialmente 20.\n"
   ]
  },
  {
   "cell_type": "code",
   "execution_count": 64,
   "metadata": {
    "collapsed": true
   },
   "outputs": [],
   "source": [
    "n = 20"
   ]
  },
  {
   "cell_type": "code",
   "execution_count": 65,
   "metadata": {
    "collapsed": false
   },
   "outputs": [],
   "source": [
    "Choices = np.random.choice(Valores,n)\n",
    "NeuDataFrame = pd.DataFrame()\n",
    "NeuDataFrame[\"Val\"] = Choices \n",
    "\n",
    "Mu_2 = NeuDataFrame.Val.mean()\n",
    "Mu_2 = format(Mu_2,\".2f\")\n"
   ]
  },
  {
   "cell_type": "code",
   "execution_count": 66,
   "metadata": {
    "collapsed": false,
    "scrolled": true
   },
   "outputs": [
    {
     "name": "stdout",
     "output_type": "stream",
     "text": [
      "A média amostral dos valores é de 0.50.\n"
     ]
    }
   ],
   "source": [
    "print(\"A média amostral dos valores é de {0}.\".format(Mu_2))"
   ]
  },
  {
   "cell_type": "code",
   "execution_count": 67,
   "metadata": {
    "collapsed": false
   },
   "outputs": [],
   "source": [
    "Media = []\n",
    "MediaDt = pd.DataFrame()\n",
    "for number in range(10000):\n",
    "    Choices_of_list = np.random.choice(Valores,n)\n",
    "    MediaDt[\"Valores\"] = Choices_of_list\n",
    "    Media.append(MediaDt.Valores.mean())"
   ]
  },
  {
   "cell_type": "code",
   "execution_count": 68,
   "metadata": {
    "collapsed": false
   },
   "outputs": [
    {
     "name": "stdout",
     "output_type": "stream",
     "text": [
      "A média das médias amostrais é 0.50, e a variação delas é 0.16.\n"
     ]
    },
    {
     "data": {
      "image/png": "[encoded data removed]",
      "text/plain": [
       "<matplotlib.figure.Figure at 0x2c16bf36ba8>"
      ]
     },
     "metadata": {},
     "output_type": "display_data"
    }
   ],
   "source": [
    "MediaData = pd.DataFrame()\n",
    "MediaData[\"Values\"] = Media\n",
    "MediaData.Values.plot.hist(bins= 50, grid = True)\n",
    "plt.axvline(Mu, color = \"red\", linestyle = '-', linewidth = 3)\n",
    "\n",
    "Mu_3 = NeuDataFrame.Val.mean()\n",
    "Mu_3 = format(Mu_3,\".2f\")\n",
    "\n",
    "Var_3 = NeuDataFrame.Val.var()\n",
    "Var_3 = format(Var_3,\".2f\")\n",
    "\n",
    "print(\"A média das médias amostrais é {0}, e a variação delas é {1}.\".format(Mu_3, Var_3))"
   ]
  },
  {
   "cell_type": "markdown",
   "metadata": {},
   "source": [
    "# O número n de amostras será inicialmente 50."
   ]
  },
  {
   "cell_type": "code",
   "execution_count": 69,
   "metadata": {
    "collapsed": true
   },
   "outputs": [],
   "source": [
    "n = 50"
   ]
  },
  {
   "cell_type": "code",
   "execution_count": 70,
   "metadata": {
    "collapsed": false
   },
   "outputs": [],
   "source": [
    "Choices = np.random.choice(Valores,n)\n",
    "NeuDataFrame = pd.DataFrame()\n",
    "NeuDataFrame[\"Val\"] = Choices \n",
    "\n",
    "Mu_2 = NeuDataFrame.Val.mean()\n",
    "Mu_2 = format(Mu_2,\".2f\")\n"
   ]
  },
  {
   "cell_type": "code",
   "execution_count": 71,
   "metadata": {
    "collapsed": false,
    "scrolled": true
   },
   "outputs": [
    {
     "name": "stdout",
     "output_type": "stream",
     "text": [
      "A média amostral dos valores é de 0.54.\n"
     ]
    }
   ],
   "source": [
    "print(\"A média amostral dos valores é de {0}.\".format(Mu_2))"
   ]
  },
  {
   "cell_type": "code",
   "execution_count": 72,
   "metadata": {
    "collapsed": false
   },
   "outputs": [],
   "source": [
    "Media = []\n",
    "MediaDt = pd.DataFrame()\n",
    "for number in range(10000):\n",
    "    Choices_of_list = np.random.choice(Valores,n)\n",
    "    MediaDt[\"Valores\"] = Choices_of_list\n",
    "    Media.append(MediaDt.Valores.mean())"
   ]
  },
  {
   "cell_type": "code",
   "execution_count": 73,
   "metadata": {
    "collapsed": false,
    "scrolled": true
   },
   "outputs": [
    {
     "name": "stdout",
     "output_type": "stream",
     "text": [
      "A média das médias amostrais é 0.54, e a variação delas é 0.11.\n"
     ]
    },
    {
     "data": {
      "image/png": "[encoded data removed]",
      "text/plain": [
       "<matplotlib.figure.Figure at 0x2c16c07fc88>"
      ]
     },
     "metadata": {},
     "output_type": "display_data"
    }
   ],
   "source": [
    "MediaData = pd.DataFrame()\n",
    "MediaData[\"Values\"] = Media\n",
    "MediaData.plot.hist(bins= 50, grid = True)\n",
    "plt.axvline(Mu, color = \"red\", linestyle = '-', linewidth = 3)\n",
    "\n",
    "Mu_3 = NeuDataFrame.Val.mean()\n",
    "Mu_3 = format(Mu_3,\".2f\")\n",
    "\n",
    "Var_3 = NeuDataFrame.Val.var()\n",
    "Var_3 = format(Var_3,\".2f\")\n",
    "\n",
    "\n",
    "\n",
    "print(\"A média das médias amostrais é {0}, e a variação delas é {1}.\".format(Mu_3, Var_3))"
   ]
  },
  {
   "cell_type": "markdown",
   "metadata": {},
   "source": [
    "# 4) Conclusão"
   ]
  },
  {
   "cell_type": "markdown",
   "metadata": {},
   "source": [
    "O objetivo deste notebook era compreender e analisar a validação do TLC (Teorema do Limite Central) aplicado a simulação de distribuições, que pode ser observada nos resultados obtidos nas simulações aqui realizadas.\n",
    "\n",
    "Nos casos estudados, utilizamos as distribuições do tipo Lognormal e Beta por meio da análise amostral, montando uma distribuição X com valores aleatórios da distribuição original, e a posterior análise de como X se aproxima de uma distribuição do tipo Normal conforme o n, o número de amostras, aumenta e tende ao infinito. E para provar que este fenômeno ocorre para qualquer tipo de distribuição, utilizamos duas distribuições diferentes (Lognormal e Beta) e aumentamos progressivamente os valores do n para observar o efeito.\n",
    "\n",
    "No caso da distribuição do tipo Lognormal, ele possuía uma leve assimetria em relação a Normal, e assim, a sua distribuição tendeu à distribuição do tipo Normal mais rapidamente. Já no caso da distribuição do tipo Beta, a visualização da tendência da distribuição original para a distribuição do tipo Normal, conforme o n aumenta e tende à infinito, é facilitada pela forma da curva. \n",
    "\n",
    "Assim, independentemente da forma da distribuição, e independentemente da assimetria, para os valores de n tendendo a infinito, a distribuição sempre tenderá a distribuição do tipo normal. \n",
    "\n",
    "Para melhor compreender o resultado da validação do TLC, pode-se fazer o experimento a seguir."
   ]
  },
  {
   "cell_type": "markdown",
   "metadata": {},
   "source": [
    "Primeiramente, vamos observar que a sequência (X1, … , Xn) é chamada de amostra aleatória, ou seja, as variáveis dessa sequência são\n",
    "independentes e identicamente distribuídas a X. "
   ]
  },
  {
   "cell_type": "markdown",
   "metadata": {},
   "source": [
    "Escolhemos n = 50 e repetimos os procedimentos de escolha do item 3, iremos guardar os valores de índice 1 e 9 em duas listas diferentes, sendo X1 e X9."
   ]
  },
  {
   "cell_type": "markdown",
   "metadata": {},
   "source": [
    "I)"
   ]
  },
  {
   "cell_type": "code",
   "execution_count": 36,
   "metadata": {
    "collapsed": true
   },
   "outputs": [],
   "source": [
    "n = 50\n",
    "\n",
    "Choices = np.random.choice(Valores,n)\n",
    "NeuDataFrame = pd.DataFrame()\n",
    "NeuDataFrame[\"Val\"] = Choices \n",
    "\n",
    "Valores_app1 = []\n",
    "Valores_app9 = []\n",
    "\n",
    "MediaDt = pd.DataFrame()\n",
    "for number in range(10000):\n",
    "    Choices_of_list = np.random.choice(Valores,n)\n",
    "    MediaDt[\"Valores\"] = Choices_of_list\n",
    "    Valores_app1.append(Choices_of_list[0])\n",
    "    Valores_app9.append(Choices_of_list[8])\n",
    "\n",
    " \n",
    "    "
   ]
  },
  {
   "cell_type": "markdown",
   "metadata": {},
   "source": [
    "Fazendo o histograma dos valores de X1."
   ]
  },
  {
   "cell_type": "markdown",
   "metadata": {},
   "source": [
    "II)"
   ]
  },
  {
   "cell_type": "code",
   "execution_count": 37,
   "metadata": {
    "collapsed": false
   },
   "outputs": [
    {
     "data": {
      "text/plain": [
       "<matplotlib.lines.Line2D at 0x2c16d08b278>"
      ]
     },
     "execution_count": 37,
     "metadata": {},
     "output_type": "execute_result"
    },
    {
     "data": {
      "image/png": "[encoded data removed]",
      "text/plain": [
       "<matplotlib.figure.Figure at 0x2c16cfdf860>"
      ]
     },
     "metadata": {},
     "output_type": "display_data"
    }
   ],
   "source": [
    "Data_1 = pd.DataFrame()\n",
    "Data_1[\"Values\"] = Valores_app1\n",
    "Data_1.plot.hist(bins= 50, grid = True)\n",
    "\n",
    "plt.axvline(Mu, color = \"red\", linestyle = '-', linewidth = 3)   "
   ]
  },
  {
   "cell_type": "markdown",
   "metadata": {},
   "source": [
    "Fazendo o histograma dos valores de X9."
   ]
  },
  {
   "cell_type": "markdown",
   "metadata": {},
   "source": [
    "III)"
   ]
  },
  {
   "cell_type": "code",
   "execution_count": 38,
   "metadata": {
    "collapsed": false
   },
   "outputs": [
    {
     "data": {
      "text/plain": [
       "<matplotlib.lines.Line2D at 0x2c16d083048>"
      ]
     },
     "execution_count": 38,
     "metadata": {},
     "output_type": "execute_result"
    },
    {
     "data": {
      "image/png": "[encoded data removed]",
      "text/plain": [
       "<matplotlib.figure.Figure at 0x2c16d2a1320>"
      ]
     },
     "metadata": {},
     "output_type": "display_data"
    }
   ],
   "source": [
    "Data_9 = pd.DataFrame()\n",
    "Data_9[\"Values\"] = Valores_app9\n",
    "Data_9.plot.hist(bins= 50, grid = True)\n",
    "\n",
    "plt.axvline(Mu, color = \"red\", linestyle = '-', linewidth = 3)   "
   ]
  },
  {
   "cell_type": "markdown",
   "metadata": {},
   "source": [
    "Comparando os valores das médias dos valores amostrais para X original (para comparação; n = 50)"
   ]
  },
  {
   "cell_type": "code",
   "execution_count": 39,
   "metadata": {
    "collapsed": false
   },
   "outputs": [
    {
     "data": {
      "text/plain": [
       "<matplotlib.lines.Line2D at 0x2c16c92e400>"
      ]
     },
     "execution_count": 39,
     "metadata": {},
     "output_type": "execute_result"
    },
    {
     "data": {
      "image/png": "[encoded data removed]",
      "text/plain": [
       "<matplotlib.figure.Figure at 0x2c16c952588>"
      ]
     },
     "metadata": {},
     "output_type": "display_data"
    }
   ],
   "source": [
    "Choices = np.random.choice(Valores,n)\n",
    "NeuDataFrame = pd.DataFrame()\n",
    "NeuDataFrame[\"Val\"] = Choices \n",
    "\n",
    "Mu_2 = NeuDataFrame.Val.mean()\n",
    "Mu_2 = format(Mu_2,\".2f\")\n",
    "\n",
    "Media = []\n",
    "MediaDt = pd.DataFrame()\n",
    "for number in range(10000):\n",
    "    Choices_of_list = np.random.choice(Valores,n)\n",
    "    MediaDt[\"Valores\"] = Choices_of_list\n",
    "    Media.append(MediaDt.Valores.mean())\n",
    "\n",
    "MediaData = pd.DataFrame()\n",
    "MediaData[\"Values\"] = Media\n",
    "MediaData.plot.hist(bins= 50, grid = True)\n",
    "plt.axvline(Mu, color = \"red\", linestyle = '-', linewidth = 3)"
   ]
  },
  {
   "cell_type": "markdown",
   "metadata": {},
   "source": [
    "IV)"
   ]
  },
  {
   "cell_type": "markdown",
   "metadata": {},
   "source": [
    "A distribuição do X1 e X9 são muito próximas, pois os valores se aproximam de distribuições normais."
   ]
  },
  {
   "cell_type": "markdown",
   "metadata": {},
   "source": [
    "V)"
   ]
  },
  {
   "cell_type": "code",
   "execution_count": 45,
   "metadata": {
    "collapsed": false
   },
   "outputs": [
    {
     "name": "stdout",
     "output_type": "stream",
     "text": [
      "A correlação dos valores de X1 e X9 é de 0.0.\n"
     ]
    }
   ],
   "source": [
    "correlação = np.corrcoef(Valores_app1, Valores_app9)[0][1]\n",
    "corr = abs(correlação.round())\n",
    "print(\"A correlação dos valores de X1 e X9 é de {0}.\".format(corr))"
   ]
  }
 ],
 "metadata": {
  "kernelspec": {
   "display_name": "Python 3",
   "language": "python",
   "name": "python3"
  },
  "language_info": {
   "codemirror_mode": {
    "name": "ipython",
    "version": 3
   },
   "file_extension": ".py",
   "mimetype": "text/x-python",
   "name": "python",
   "nbconvert_exporter": "python",
   "pygments_lexer": "ipython3",
   "version": "3.5.2"
  }
 },
 "nbformat": 4,
 "nbformat_minor": 0
}
