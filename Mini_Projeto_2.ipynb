{
 "cells": [
  {
   "cell_type": "markdown",
   "metadata": {},
   "source": [
    "# Miniprojeto 2 "
   ]
  },
  {
   "cell_type": "markdown",
   "metadata": {},
   "source": [
    "#Testando git"
   ]
  },
  {
   "cell_type": "code",
   "execution_count": 1,
   "metadata": {
    "collapsed": true
   },
   "outputs": [],
   "source": [
    "%matplotlib inline\n",
    "\n",
    "import os\n",
    "import matplotlib.pyplot as plt\n",
    "import pandas as pd\n",
    "import numpy as np\n",
    "from scipy import stats\n"
   ]
  },
  {
   "cell_type": "markdown",
   "metadata": {},
   "source": [
    "# 1)"
   ]
  },
  {
   "cell_type": "markdown",
   "metadata": {},
   "source": [
    "a)"
   ]
  },
  {
   "cell_type": "markdown",
   "metadata": {},
   "source": [
    "Usaremos a distribuição Lognormal para analisar a distribuição da média amostral, calcular seu valor médio e a variância\n",
    "dessas médias"
   ]
  },
  {
   "cell_type": "markdown",
   "metadata": {},
   "source": [
    "b)"
   ]
  },
  {
   "cell_type": "code",
   "execution_count": 71,
   "metadata": {
    "collapsed": false,
    "scrolled": true
   },
   "outputs": [
    {
     "data": {
      "image/png": "[encoded data removed]",
      "text/plain": [
       "<matplotlib.figure.Figure at 0x2151a72e080>"
      ]
     },
     "metadata": {},
     "output_type": "display_data"
    }
   ],
   "source": [
    "Dados_Init = pd.DataFrame()\n",
    "Valores = stats.lognorm.rvs(0.25, size=1000000)\n",
    "Dados_Init[\"Values\"] = Valores\n",
    "Dados_Init.plot.hist(bins=100, legend = True)\n",
    "\n",
    "space = np.arange(0,3,0.1)\n",
    "\n",
    "mu_X = Dados_Init.Values.mean()\n",
    "var_X = Dados_Init.Values.var()\n",
    "\n",
    "norm = stats.norm.pdf(space,mu_X, var_X**0.5)*30000\n",
    "plt.plot(space,norm)\n",
    "plt.show()"
   ]
  },
  {
   "cell_type": "markdown",
   "metadata": {},
   "source": [
    "c)"
   ]
  },
  {
   "cell_type": "code",
   "execution_count": 72,
   "metadata": {
    "collapsed": false
   },
   "outputs": [
    {
     "name": "stdout",
     "output_type": "stream",
     "text": [
      "A média (Mu) é 1.03 e a variância (Sigma²) é 0.07.\n"
     ]
    }
   ],
   "source": [
    "# Os valores a seguir são as médias da \n",
    "\n",
    "Mu = Dados_Init.Values.mean()\n",
    "Sigma = Dados_Init.Values.var()\n",
    "\n",
    "Mu_1 = format(Mu, \".2f\")\n",
    "Sigma = format(Sigma, \".2f\")\n",
    "\n",
    "print(\"A média (Mu) é {0} e a variância (Sigma²) é {1}.\".format(Mu_1,Sigma))"
   ]
  },
  {
   "cell_type": "markdown",
   "metadata": {},
   "source": [
    "# 2)"
   ]
  },
  {
   "cell_type": "markdown",
   "metadata": {},
   "source": [
    "a) "
   ]
  },
  {
   "cell_type": "code",
   "execution_count": 73,
   "metadata": {
    "collapsed": true
   },
   "outputs": [],
   "source": [
    "# O número n de amostras será inicialmente 2.\n",
    "\n",
    "n = 2"
   ]
  },
  {
   "cell_type": "markdown",
   "metadata": {},
   "source": [
    "b) "
   ]
  },
  {
   "cell_type": "code",
   "execution_count": 42,
   "metadata": {
    "collapsed": false
   },
   "outputs": [],
   "source": [
    "Choices = np.random.choice(Valores,n)\n",
    "NeuDataFrame = pd.DataFrame()\n",
    "NeuDataFrame[\"Val\"] = Choices \n",
    "\n",
    "Mu_2 = NeuDataFrame.Val.mean()\n",
    "Mu_2 = format(Mu_2,\".2f\")\n"
   ]
  },
  {
   "cell_type": "markdown",
   "metadata": {},
   "source": [
    "c)"
   ]
  },
  {
   "cell_type": "code",
   "execution_count": 43,
   "metadata": {
    "collapsed": false,
    "scrolled": true
   },
   "outputs": [
    {
     "name": "stdout",
     "output_type": "stream",
     "text": [
      "A média amostral dos valores é de 1.02.\n"
     ]
    }
   ],
   "source": [
    "print(\"A média amostral dos valores é de {0}.\".format(Mu_2))"
   ]
  },
  {
   "cell_type": "markdown",
   "metadata": {},
   "source": [
    "d)"
   ]
  },
  {
   "cell_type": "code",
   "execution_count": 44,
   "metadata": {
    "collapsed": false
   },
   "outputs": [],
   "source": [
    "Media = []\n",
    "MediaDt = pd.DataFrame()\n",
    "for number in range(10000):\n",
    "    Choices_of_list = np.random.choice(Valores,n)\n",
    "    MediaDt[\"Valores\"] = Choices_of_list\n",
    "    Media.append(MediaDt.Valores.mean())"
   ]
  },
  {
   "cell_type": "markdown",
   "metadata": {},
   "source": [
    "e)"
   ]
  },
  {
   "cell_type": "code",
   "execution_count": 93,
   "metadata": {
    "collapsed": false
   },
   "outputs": [
    {
     "name": "stdout",
     "output_type": "stream",
     "text": [
      "A média das médias amostrais é 1.09, e a variação delas é 0.06.\n"
     ]
    },
    {
     "data": {
      "image/png": "[encoded data removed]",
      "text/plain": [
       "<matplotlib.figure.Figure at 0x215105a3be0>"
      ]
     },
     "metadata": {},
     "output_type": "display_data"
    }
   ],
   "source": [
    "MediaData = pd.DataFrame()\n",
    "MediaData[\"Values\"] = Media\n",
    "MediaData.plot.hist(bins= 50)\n",
    "plt.axvline(Mu, color = \"red\", linestyle = '-', linewidth = 3)\n",
    "\n",
    "Mu_3 = NeuDataFrame.Val.mean()\n",
    "Mu_3 = format(Mu_3,\".2f\")\n",
    "\n",
    "Var_3 = NeuDataFrame.Val.var()\n",
    "Var_3 = format(Var_3,\".2f\")\n",
    "\n",
    "print(\"A média das médias amostrais é {0}, e a variação delas é {1}.\".format(Mu_3, Var_3))"
   ]
  },
  {
   "cell_type": "markdown",
   "metadata": {},
   "source": [
    "f)"
   ]
  },
  {
   "cell_type": "markdown",
   "metadata": {},
   "source": [
    "Explicação aqui."
   ]
  },
  {
   "cell_type": "markdown",
   "metadata": {},
   "source": [
    "# 3)"
   ]
  },
  {
   "cell_type": "markdown",
   "metadata": {},
   "source": [
    "# O número n de amostras será inicialmente 4."
   ]
  },
  {
   "cell_type": "code",
   "execution_count": 75,
   "metadata": {
    "collapsed": true
   },
   "outputs": [],
   "source": [
    "# O número n de amostras será inicialmente 4.\n",
    "\n",
    "n = 4"
   ]
  },
  {
   "cell_type": "code",
   "execution_count": 76,
   "metadata": {
    "collapsed": false
   },
   "outputs": [],
   "source": [
    "Choices = np.random.choice(Valores,n)\n",
    "NeuDataFrame = pd.DataFrame()\n",
    "NeuDataFrame[\"Val\"] = Choices \n",
    "\n",
    "Mu_2 = NeuDataFrame.Val.mean()\n",
    "Mu_2 = format(Mu_2,\".2f\")\n"
   ]
  },
  {
   "cell_type": "code",
   "execution_count": 77,
   "metadata": {
    "collapsed": false,
    "scrolled": true
   },
   "outputs": [
    {
     "name": "stdout",
     "output_type": "stream",
     "text": [
      "A média amostral dos valores é de 0.86.\n"
     ]
    }
   ],
   "source": [
    "print(\"A média amostral dos valores é de {0}.\".format(Mu_2))"
   ]
  },
  {
   "cell_type": "code",
   "execution_count": 78,
   "metadata": {
    "collapsed": false
   },
   "outputs": [],
   "source": [
    "Media = []\n",
    "MediaDt = pd.DataFrame()\n",
    "for number in range(10000):\n",
    "    Choices_of_list = np.random.choice(Valores,n)\n",
    "    MediaDt[\"Valores\"] = Choices_of_list\n",
    "    Media.append(MediaDt.Valores.mean())"
   ]
  },
  {
   "cell_type": "code",
   "execution_count": 79,
   "metadata": {
    "collapsed": false
   },
   "outputs": [
    {
     "name": "stdout",
     "output_type": "stream",
     "text": [
      "A média das médias amostrais é 0.86, e a variação delas é 0.03.\n"
     ]
    },
    {
     "data": {
      "image/png": "[encoded data removed]",
      "text/plain": [
       "<matplotlib.figure.Figure at 0x215106944a8>"
      ]
     },
     "metadata": {},
     "output_type": "display_data"
    }
   ],
   "source": [
    "MediaData = pd.DataFrame()\n",
    "MediaData[\"Values\"] = Media\n",
    "MediaData.plot.hist(bins= 50)\n",
    "plt.axvline(Mu, color = \"red\", linestyle = '-', linewidth = 3)\n",
    "\n",
    "Mu_3 = NeuDataFrame.Val.mean()\n",
    "Mu_3 = format(Mu_3,\".2f\")\n",
    "\n",
    "Var_3 = NeuDataFrame.Val.var()\n",
    "Var_3 = format(Var_3,\".2f\")\n",
    "\n",
    "print(\"A média das médias amostrais é {0}, e a variação delas é {1}.\".format(Mu_3, Var_3))"
   ]
  },
  {
   "cell_type": "markdown",
   "metadata": {},
   "source": [
    "# O número n de amostras será inicialmente 20.\n"
   ]
  },
  {
   "cell_type": "code",
   "execution_count": 80,
   "metadata": {
    "collapsed": true
   },
   "outputs": [],
   "source": [
    "n = 20"
   ]
  },
  {
   "cell_type": "code",
   "execution_count": 81,
   "metadata": {
    "collapsed": false
   },
   "outputs": [],
   "source": [
    "Choices = np.random.choice(Valores,n)\n",
    "NeuDataFrame = pd.DataFrame()\n",
    "NeuDataFrame[\"Val\"] = Choices \n",
    "\n",
    "Mu_2 = NeuDataFrame.Val.mean()\n",
    "Mu_2 = format(Mu_2,\".2f\")\n"
   ]
  },
  {
   "cell_type": "code",
   "execution_count": 82,
   "metadata": {
    "collapsed": false,
    "scrolled": true
   },
   "outputs": [
    {
     "name": "stdout",
     "output_type": "stream",
     "text": [
      "A média amostral dos valores é de 0.93.\n"
     ]
    }
   ],
   "source": [
    "print(\"A média amostral dos valores é de {0}.\".format(Mu_2))"
   ]
  },
  {
   "cell_type": "code",
   "execution_count": 83,
   "metadata": {
    "collapsed": false
   },
   "outputs": [],
   "source": [
    "Media = []\n",
    "MediaDt = pd.DataFrame()\n",
    "for number in range(10000):\n",
    "    Choices_of_list = np.random.choice(Valores,n)\n",
    "    MediaDt[\"Valores\"] = Choices_of_list\n",
    "    Media.append(MediaDt.Valores.mean())"
   ]
  },
  {
   "cell_type": "code",
   "execution_count": 84,
   "metadata": {
    "collapsed": false
   },
   "outputs": [
    {
     "name": "stdout",
     "output_type": "stream",
     "text": [
      "A média das médias amostrais é 0.93, e a variação delas é 0.04.\n"
     ]
    },
    {
     "data": {
      "image/png": "[encoded data removed]",
      "text/plain": [
       "<matplotlib.figure.Figure at 0x21517ae0940>"
      ]
     },
     "metadata": {},
     "output_type": "display_data"
    }
   ],
   "source": [
    "MediaData = pd.DataFrame()\n",
    "MediaData[\"Values\"] = Media\n",
    "MediaData.plot.hist(bins= 50)\n",
    "plt.axvline(Mu, color = \"red\", linestyle = '-', linewidth = 3)\n",
    "\n",
    "Mu_3 = NeuDataFrame.Val.mean()\n",
    "Mu_3 = format(Mu_3,\".2f\")\n",
    "\n",
    "Var_3 = NeuDataFrame.Val.var()\n",
    "Var_3 = format(Var_3,\".2f\")\n",
    "\n",
    "print(\"A média das médias amostrais é {0}, e a variação delas é {1}.\".format(Mu_3, Var_3))"
   ]
  },
  {
   "cell_type": "markdown",
   "metadata": {},
   "source": [
    "# O número n de amostras será inicialmente 40."
   ]
  },
  {
   "cell_type": "code",
   "execution_count": 85,
   "metadata": {
    "collapsed": true
   },
   "outputs": [],
   "source": [
    "n = 40"
   ]
  },
  {
   "cell_type": "code",
   "execution_count": 86,
   "metadata": {
    "collapsed": false
   },
   "outputs": [],
   "source": [
    "Choices = np.random.choice(Valores,n)\n",
    "NeuDataFrame = pd.DataFrame()\n",
    "NeuDataFrame[\"Val\"] = Choices \n",
    "\n",
    "Mu_2 = NeuDataFrame.Val.mean()\n",
    "Mu_2 = format(Mu_2,\".2f\")\n"
   ]
  },
  {
   "cell_type": "code",
   "execution_count": 87,
   "metadata": {
    "collapsed": false,
    "scrolled": true
   },
   "outputs": [
    {
     "name": "stdout",
     "output_type": "stream",
     "text": [
      "A média amostral dos valores é de 1.09.\n"
     ]
    }
   ],
   "source": [
    "print(\"A média amostral dos valores é de {0}.\".format(Mu_2))"
   ]
  },
  {
   "cell_type": "code",
   "execution_count": 88,
   "metadata": {
    "collapsed": false
   },
   "outputs": [],
   "source": [
    "Media = []\n",
    "MediaDt = pd.DataFrame()\n",
    "for number in range(10000):\n",
    "    Choices_of_list = np.random.choice(Valores,n)\n",
    "    MediaDt[\"Valores\"] = Choices_of_list\n",
    "    Media.append(MediaDt.Valores.mean())"
   ]
  },
  {
   "cell_type": "code",
   "execution_count": 89,
   "metadata": {
    "collapsed": false
   },
   "outputs": [
    {
     "name": "stdout",
     "output_type": "stream",
     "text": [
      "A média das médias amostrais é 1.09, e a variação delas é 0.06.\n"
     ]
    },
    {
     "data": {
      "image/png": "[encoded data removed]",
      "text/plain": [
       "<matplotlib.figure.Figure at 0x215102e7860>"
      ]
     },
     "metadata": {},
     "output_type": "display_data"
    }
   ],
   "source": [
    "MediaData = pd.DataFrame()\n",
    "MediaData[\"Values\"] = Media\n",
    "MediaData.plot.hist(bins= 50)\n",
    "plt.axvline(Mu, color = \"red\", linestyle = '-', linewidth = 3)\n",
    "\n",
    "Mu_3 = NeuDataFrame.Val.mean()\n",
    "Mu_3 = format(Mu_3,\".2f\")\n",
    "\n",
    "Var_3 = NeuDataFrame.Val.var()\n",
    "Var_3 = format(Var_3,\".2f\")\n",
    "\n",
    "\n",
    "\n",
    "print(\"A média das médias amostrais é {0}, e a variação delas é {1}.\".format(Mu_3, Var_3))"
   ]
  }
 ],
 "metadata": {
  "kernelspec": {
   "display_name": "Python 3",
   "language": "python",
   "name": "python3"
  },
  "language_info": {
   "codemirror_mode": {
    "name": "ipython",
    "version": 3
   },
   "file_extension": ".py",
   "mimetype": "text/x-python",
   "name": "python",
   "nbconvert_exporter": "python",
   "pygments_lexer": "ipython3",
   "version": "3.5.2"
  }
 },
 "nbformat": 4,
 "nbformat_minor": 0
}
